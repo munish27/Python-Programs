{
 "cells": [
  {
   "cell_type": "markdown",
   "id": "46f38c26",
   "metadata": {},
   "source": [
    "# Area of Triangle"
   ]
  },
  {
   "cell_type": "code",
   "execution_count": 3,
   "id": "99ae2c6e",
   "metadata": {},
   "outputs": [
    {
     "name": "stdout",
     "output_type": "stream",
     "text": [
      "5\n",
      "6\n",
      "7\n",
      "14.70\n"
     ]
    }
   ],
   "source": [
    "a = int(input())\n",
    "b = int(input())\n",
    "c = int(input())\n",
    "\n",
    "s = (a+b+c)/2\n",
    "area = (s*(s-a)*(s-b)*(s-c))**0.5\n",
    "print(\"%0.2f\" %area)"
   ]
  },
  {
   "cell_type": "markdown",
   "id": "238e6045",
   "metadata": {},
   "source": [
    "# Quadratic Equation"
   ]
  },
  {
   "cell_type": "code",
   "execution_count": 8,
   "id": "23e812c3",
   "metadata": {},
   "outputs": [
    {
     "name": "stdout",
     "output_type": "stream",
     "text": [
      "1\n",
      "5\n",
      "6\n",
      "(-3+0j) (-2+0j)\n"
     ]
    }
   ],
   "source": [
    "import cmath\n",
    "a = int(input())\n",
    "b = int(input())\n",
    "c = int(input())\n",
    "\n",
    "d = (b**2) - (4*a*c)\n",
    "\n",
    "sol1 =(-b -cmath.sqrt(d))/(2*a)\n",
    "sol2 =(-b +cmath.sqrt(d))/(2*a)\n",
    "print(sol1, sol2)"
   ]
  },
  {
   "cell_type": "markdown",
   "id": "0e507dd5",
   "metadata": {},
   "source": [
    "# swap two variables"
   ]
  },
  {
   "cell_type": "code",
   "execution_count": 9,
   "id": "c955682d",
   "metadata": {},
   "outputs": [
    {
     "name": "stdout",
     "output_type": "stream",
     "text": [
      "3\n",
      "4\n",
      "4 3\n"
     ]
    }
   ],
   "source": [
    "a = int(input())\n",
    "b = int(input())\n",
    "\n",
    "temp = 0\n",
    "\n",
    "temp = a\n",
    "a = b\n",
    "b = temp\n",
    "print(a, b)"
   ]
  },
  {
   "cell_type": "markdown",
   "id": "dcbfeb84",
   "metadata": {},
   "source": [
    "# Generate Random Number"
   ]
  },
  {
   "cell_type": "code",
   "execution_count": 24,
   "id": "c93a29e7",
   "metadata": {
    "scrolled": true
   },
   "outputs": [
    {
     "ename": "ImportError",
     "evalue": "cannot import name 'randit' from 'random' (c:\\users\\munish kumar\\appdata\\local\\programs\\python\\python39\\lib\\random.py)",
     "output_type": "error",
     "traceback": [
      "\u001b[1;31m---------------------------------------------------------------------------\u001b[0m",
      "\u001b[1;31mImportError\u001b[0m                               Traceback (most recent call last)",
      "\u001b[1;32m<ipython-input-24-0e508facfa50>\u001b[0m in \u001b[0;36m<module>\u001b[1;34m\u001b[0m\n\u001b[1;32m----> 1\u001b[1;33m \u001b[1;32mfrom\u001b[0m \u001b[0mrandom\u001b[0m \u001b[1;32mimport\u001b[0m \u001b[0mrandit\u001b[0m\u001b[1;33m\u001b[0m\u001b[1;33m\u001b[0m\u001b[0m\n\u001b[0m\u001b[0;32m      2\u001b[0m \u001b[0mprint\u001b[0m\u001b[1;33m(\u001b[0m\u001b[0mrandom\u001b[0m\u001b[1;33m.\u001b[0m\u001b[0mrandit\u001b[0m\u001b[1;33m(\u001b[0m\u001b[1;36m1\u001b[0m\u001b[1;33m,\u001b[0m \u001b[1;36m10\u001b[0m\u001b[1;33m)\u001b[0m\u001b[1;33m)\u001b[0m\u001b[1;33m\u001b[0m\u001b[1;33m\u001b[0m\u001b[0m\n",
      "\u001b[1;31mImportError\u001b[0m: cannot import name 'randit' from 'random' (c:\\users\\munish kumar\\appdata\\local\\programs\\python\\python39\\lib\\random.py)"
     ]
    }
   ],
   "source": [
    "from random import randit\n",
    "print(random.randit(1, 10))"
   ]
  },
  {
   "cell_type": "markdown",
   "id": "c00720dd",
   "metadata": {},
   "source": [
    "# Kilometer to Miles"
   ]
  },
  {
   "cell_type": "code",
   "execution_count": 21,
   "id": "65e51670",
   "metadata": {},
   "outputs": [
    {
     "name": "stdout",
     "output_type": "stream",
     "text": [
      "2\n",
      "1.24\n"
     ]
    }
   ],
   "source": [
    "km = float(input())\n",
    "\n",
    "miles = km*0.621371\n",
    "print(\"%0.2f\" %miles)"
   ]
  },
  {
   "cell_type": "markdown",
   "id": "204792ca",
   "metadata": {},
   "source": [
    "# Fahrenheit to Celsius"
   ]
  },
  {
   "cell_type": "code",
   "execution_count": 26,
   "id": "41b7d3b1",
   "metadata": {},
   "outputs": [
    {
     "name": "stdout",
     "output_type": "stream",
     "text": [
      "99.5\n",
      "37.5\n"
     ]
    }
   ],
   "source": [
    "f  = float(input())\n",
    "\n",
    "celsius = (f-32)/1.8\n",
    "print(celsius)"
   ]
  },
  {
   "cell_type": "markdown",
   "id": "7aed3dbd",
   "metadata": {},
   "source": [
    "# Celsius to Fahrenheit"
   ]
  },
  {
   "cell_type": "code",
   "execution_count": 31,
   "id": "1938894e",
   "metadata": {},
   "outputs": [
    {
     "name": "stdout",
     "output_type": "stream",
     "text": [
      "34\n",
      "93.2\n"
     ]
    }
   ],
   "source": [
    "c = float(input())\n",
    "fahrenheit = (c*1.8) + 32\n",
    "print(fahrenheit)"
   ]
  },
  {
   "cell_type": "markdown",
   "id": "0c9e89e0",
   "metadata": {},
   "source": [
    "# positive or negative "
   ]
  },
  {
   "cell_type": "code",
   "execution_count": 32,
   "id": "4565eca5",
   "metadata": {},
   "outputs": [
    {
     "name": "stdout",
     "output_type": "stream",
     "text": [
      "-1\n",
      "-ve\n"
     ]
    }
   ],
   "source": [
    "n = int(input())\n",
    "\n",
    "if n > 0:\n",
    "    print(\"+ve\")\n",
    "elif n == 0:\n",
    "    print(\"0\")\n",
    "elif n < 0:\n",
    "    print(\"-ve\")\n",
    "else:\n",
    "    print(\"enter valid input!\")"
   ]
  },
  {
   "cell_type": "markdown",
   "id": "f0c5629f",
   "metadata": {},
   "source": [
    "# Leap Year"
   ]
  },
  {
   "cell_type": "code",
   "execution_count": 1,
   "id": "4fcc0e19",
   "metadata": {},
   "outputs": [
    {
     "name": "stdout",
     "output_type": "stream",
     "text": [
      "no leap year\n"
     ]
    }
   ],
   "source": [
    "num = int(input())\n",
    "\n",
    "if (num%4 == 0) and (num%100 != 0) or (num%400 == 0):\n",
    "    print(\"leap year\")\n",
    "else:\n",
    "    print(\"no leap year\")"
   ]
  },
  {
   "cell_type": "markdown",
   "id": "afce5f59",
   "metadata": {},
   "source": [
    "# odd or even"
   ]
  },
  {
   "cell_type": "code",
   "execution_count": 2,
   "id": "8e438b7b",
   "metadata": {},
   "outputs": [
    {
     "name": "stdout",
     "output_type": "stream",
     "text": [
      "even\n"
     ]
    }
   ],
   "source": [
    "def func(num):\n",
    "    if num%2 == 0:\n",
    "        return \"even\"\n",
    "    return \"odd\"\n",
    "\n",
    "num = int(input())\n",
    "res = func(num)\n",
    "print(res)   "
   ]
  },
  {
   "cell_type": "code",
   "execution_count": null,
   "id": "a788fcc9",
   "metadata": {},
   "outputs": [],
   "source": [
    "# Largest among all three"
   ]
  },
  {
   "cell_type": "code",
   "execution_count": null,
   "id": "a2b821d2",
   "metadata": {},
   "outputs": [],
   "source": []
  },
  {
   "cell_type": "code",
   "execution_count": null,
   "id": "ca82fbb1",
   "metadata": {},
   "outputs": [],
   "source": []
  },
  {
   "cell_type": "code",
   "execution_count": null,
   "id": "6ad356b2",
   "metadata": {},
   "outputs": [],
   "source": []
  },
  {
   "cell_type": "code",
   "execution_count": null,
   "id": "3ca517a7",
   "metadata": {},
   "outputs": [],
   "source": []
  },
  {
   "cell_type": "code",
   "execution_count": null,
   "id": "52999b04",
   "metadata": {},
   "outputs": [],
   "source": []
  },
  {
   "cell_type": "code",
   "execution_count": null,
   "id": "009e03a8",
   "metadata": {},
   "outputs": [],
   "source": []
  },
  {
   "cell_type": "code",
   "execution_count": null,
   "id": "847acb68",
   "metadata": {},
   "outputs": [],
   "source": []
  }
 ],
 "metadata": {
  "kernelspec": {
   "display_name": "Python 3",
   "language": "python",
   "name": "python3"
  },
  "language_info": {
   "codemirror_mode": {
    "name": "ipython",
    "version": 3
   },
   "file_extension": ".py",
   "mimetype": "text/x-python",
   "name": "python",
   "nbconvert_exporter": "python",
   "pygments_lexer": "ipython3",
   "version": "3.9.0"
  }
 },
 "nbformat": 4,
 "nbformat_minor": 5
}
