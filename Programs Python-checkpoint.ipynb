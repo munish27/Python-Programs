{
 "cells": [
  {
   "cell_type": "markdown",
   "id": "46f38c26",
   "metadata": {},
   "source": [
    "# Area of Triangle"
   ]
  },
  {
   "cell_type": "code",
   "execution_count": 3,
   "id": "99ae2c6e",
   "metadata": {},
   "outputs": [
    {
     "name": "stdout",
     "output_type": "stream",
     "text": [
      "5\n",
      "6\n",
      "7\n",
      "14.70\n"
     ]
    }
   ],
   "source": [
    "a = int(input())\n",
    "b = int(input())\n",
    "c = int(input())\n",
    "\n",
    "s = (a+b+c)/2\n",
    "area = (s*(s-a)*(s-b)*(s-c))**0.5\n",
    "print(\"%0.2f\" %area)"
   ]
  },
  {
   "cell_type": "markdown",
   "id": "238e6045",
   "metadata": {},
   "source": [
    "# Quadratic Equation"
   ]
  },
  {
   "cell_type": "code",
   "execution_count": 8,
   "id": "23e812c3",
   "metadata": {},
   "outputs": [
    {
     "name": "stdout",
     "output_type": "stream",
     "text": [
      "1\n",
      "5\n",
      "6\n",
      "(-3+0j) (-2+0j)\n"
     ]
    }
   ],
   "source": [
    "import cmath\n",
    "a = int(input())\n",
    "b = int(input())\n",
    "c = int(input())\n",
    "\n",
    "d = (b**2) - (4*a*c)\n",
    "\n",
    "sol1 =(-b -cmath.sqrt(d))/(2*a)\n",
    "sol2 =(-b +cmath.sqrt(d))/(2*a)\n",
    "print(sol1, sol2)"
   ]
  },
  {
   "cell_type": "markdown",
   "id": "0e507dd5",
   "metadata": {},
   "source": [
    "# swap two variables"
   ]
  },
  {
   "cell_type": "code",
   "execution_count": 9,
   "id": "c955682d",
   "metadata": {},
   "outputs": [
    {
     "name": "stdout",
     "output_type": "stream",
     "text": [
      "3\n",
      "4\n",
      "4 3\n"
     ]
    }
   ],
   "source": [
    "a = int(input())\n",
    "b = int(input())\n",
    "\n",
    "temp = 0\n",
    "\n",
    "temp = a\n",
    "a = b\n",
    "b = temp\n",
    "print(a, b)"
   ]
  },
  {
   "cell_type": "markdown",
   "id": "dcbfeb84",
   "metadata": {},
   "source": [
    "# Generate Random Number"
   ]
  },
  {
   "cell_type": "code",
   "execution_count": 12,
   "id": "c93a29e7",
   "metadata": {
    "scrolled": true
   },
   "outputs": [
    {
     "name": "stdout",
     "output_type": "stream",
     "text": [
      "12\n"
     ]
    }
   ],
   "source": [
    "import random\n",
    "n = random.randint(1,20)\n",
    "print(n)"
   ]
  },
  {
   "cell_type": "markdown",
   "id": "c00720dd",
   "metadata": {},
   "source": [
    "# Kilometer to Miles"
   ]
  },
  {
   "cell_type": "code",
   "execution_count": 21,
   "id": "65e51670",
   "metadata": {},
   "outputs": [
    {
     "name": "stdout",
     "output_type": "stream",
     "text": [
      "2\n",
      "1.24\n"
     ]
    }
   ],
   "source": [
    "km = float(input())\n",
    "\n",
    "miles = km*0.621371\n",
    "print(\"%0.2f\" %miles)"
   ]
  },
  {
   "cell_type": "markdown",
   "id": "204792ca",
   "metadata": {},
   "source": [
    "# Fahrenheit to Celsius"
   ]
  },
  {
   "cell_type": "code",
   "execution_count": 26,
   "id": "41b7d3b1",
   "metadata": {},
   "outputs": [
    {
     "name": "stdout",
     "output_type": "stream",
     "text": [
      "99.5\n",
      "37.5\n"
     ]
    }
   ],
   "source": [
    "f  = float(input())\n",
    "\n",
    "celsius = (f-32)/1.8\n",
    "print(celsius)"
   ]
  },
  {
   "cell_type": "markdown",
   "id": "7aed3dbd",
   "metadata": {},
   "source": [
    "# Celsius to Fahrenheit"
   ]
  },
  {
   "cell_type": "code",
   "execution_count": 31,
   "id": "1938894e",
   "metadata": {},
   "outputs": [
    {
     "name": "stdout",
     "output_type": "stream",
     "text": [
      "34\n",
      "93.2\n"
     ]
    }
   ],
   "source": [
    "c = float(input())\n",
    "fahrenheit = (c*1.8) + 32\n",
    "print(fahrenheit)"
   ]
  },
  {
   "cell_type": "markdown",
   "id": "0c9e89e0",
   "metadata": {},
   "source": [
    "# positive or negative "
   ]
  },
  {
   "cell_type": "code",
   "execution_count": 32,
   "id": "4565eca5",
   "metadata": {},
   "outputs": [
    {
     "name": "stdout",
     "output_type": "stream",
     "text": [
      "-1\n",
      "-ve\n"
     ]
    }
   ],
   "source": [
    "n = int(input())\n",
    "\n",
    "if n > 0:\n",
    "    print(\"+ve\")\n",
    "elif n == 0:\n",
    "    print(\"0\")\n",
    "elif n < 0:\n",
    "    print(\"-ve\")\n",
    "else:\n",
    "    print(\"enter valid input!\")"
   ]
  },
  {
   "cell_type": "markdown",
   "id": "f0c5629f",
   "metadata": {},
   "source": [
    "# Leap Year"
   ]
  },
  {
   "cell_type": "code",
   "execution_count": 1,
   "id": "4fcc0e19",
   "metadata": {},
   "outputs": [
    {
     "name": "stdout",
     "output_type": "stream",
     "text": [
      "no leap year\n"
     ]
    }
   ],
   "source": [
    "num = int(input())\n",
    "\n",
    "if (num%4 == 0) and (num%100 != 0) or (num%400 == 0):\n",
    "    print(\"leap year\")\n",
    "else:\n",
    "    print(\"no leap year\")"
   ]
  },
  {
   "cell_type": "markdown",
   "id": "afce5f59",
   "metadata": {},
   "source": [
    "# odd or even"
   ]
  },
  {
   "cell_type": "code",
   "execution_count": 2,
   "id": "8e438b7b",
   "metadata": {},
   "outputs": [
    {
     "name": "stdout",
     "output_type": "stream",
     "text": [
      "even\n"
     ]
    }
   ],
   "source": [
    "def func(num):\n",
    "    if num%2 == 0:\n",
    "        return \"even\"\n",
    "    return \"odd\"\n",
    "\n",
    "num = int(input())\n",
    "res = func(num)\n",
    "print(res)   "
   ]
  },
  {
   "cell_type": "markdown",
   "id": "0b9a2598",
   "metadata": {},
   "source": [
    "# Largest Among all three"
   ]
  },
  {
   "cell_type": "code",
   "execution_count": 2,
   "id": "a2b821d2",
   "metadata": {},
   "outputs": [
    {
     "name": "stdout",
     "output_type": "stream",
     "text": [
      "c is greater\n"
     ]
    }
   ],
   "source": [
    "def func(a, b, c):\n",
    "    if a > b and a>c:\n",
    "        return \"a is greater\"\n",
    "    elif b>a and b>c:\n",
    "        return \"b is greater\"\n",
    "    elif c>a and c > b:\n",
    "        return \"c is greater\"\n",
    "\n",
    "a = int(input())\n",
    "b = int(input())\n",
    "c = int(input())\n",
    "res = func(a,b,c)\n",
    "print(res)"
   ]
  },
  {
   "cell_type": "markdown",
   "id": "d94a38db",
   "metadata": {},
   "source": [
    "# Check Prime Number"
   ]
  },
  {
   "cell_type": "code",
   "execution_count": 11,
   "id": "6ad356b2",
   "metadata": {},
   "outputs": [
    {
     "name": "stdout",
     "output_type": "stream",
     "text": [
      "prime number\n"
     ]
    }
   ],
   "source": [
    "n = int(input())\n",
    "\n",
    "flag = 0\n",
    "\n",
    "if n> 1:\n",
    "    for i in range(2,n):\n",
    "        if n%i == 0:\n",
    "            flag = 1\n",
    "            break\n",
    "if flag:\n",
    "    print(\"not prime number\")\n",
    "else:\n",
    "    print(\"prime number\")\n",
    "\n",
    "### using for...else loop\n",
    "\n",
    "# n > 1:\n",
    "# for i in range(2,n):\n",
    "#    if n%i == 0:\n",
    "#       print(\"no prime number\")\n",
    "#   else:\n",
    "#       print(\"prime number\")\n",
    "#else:\n",
    "#    print(\"no prime\")"
   ]
  },
  {
   "cell_type": "markdown",
   "id": "6e9ab234",
   "metadata": {},
   "source": [
    "# Prime number in interval"
   ]
  },
  {
   "cell_type": "code",
   "execution_count": 17,
   "id": "3ca517a7",
   "metadata": {},
   "outputs": [
    {
     "name": "stdout",
     "output_type": "stream",
     "text": [
      "2 3 5 7 11 13 17 19 "
     ]
    }
   ],
   "source": [
    "low = int(input())\n",
    "upper = int(input())\n",
    "\n",
    "for num in range(low, upper+1):\n",
    "    if num > 1:\n",
    "        for i in range(2, num):\n",
    "            if num%i == 0:\n",
    "                # print(\"no prime number\")\n",
    "                break\n",
    "        else:\n",
    "            print(num, end=\" \")\n",
    "\n",
    "\n",
    "\n"
   ]
  },
  {
   "cell_type": "markdown",
   "id": "c2bc87ce",
   "metadata": {},
   "source": [
    "# Factorial Number"
   ]
  },
  {
   "cell_type": "code",
   "execution_count": 27,
   "id": "52999b04",
   "metadata": {},
   "outputs": [
    {
     "name": "stdout",
     "output_type": "stream",
     "text": [
      "can't find factorial\n"
     ]
    }
   ],
   "source": [
    "n = int(input())\n",
    "fact = 1\n",
    "\n",
    "if n < 1:\n",
    "    print(\"can't find factorial\")\n",
    "else:\n",
    "    for i in range(1,n+1):\n",
    "        fact = fact*i\n",
    "    \n",
    "    print(fact)"
   ]
  },
  {
   "cell_type": "markdown",
   "id": "cce68e84",
   "metadata": {},
   "source": [
    "# Multiplication Table"
   ]
  },
  {
   "cell_type": "code",
   "execution_count": 30,
   "id": "009e03a8",
   "metadata": {},
   "outputs": [
    {
     "name": "stdout",
     "output_type": "stream",
     "text": [
      "5 x 1 = 5\n",
      "5 x 2 = 10\n",
      "5 x 3 = 15\n",
      "5 x 4 = 20\n",
      "5 x 5 = 25\n",
      "5 x 6 = 30\n",
      "5 x 7 = 35\n",
      "5 x 8 = 40\n",
      "5 x 9 = 45\n",
      "5 x 10 = 50\n"
     ]
    }
   ],
   "source": [
    "def func(n):\n",
    "\n",
    "    for i in range(1,11):\n",
    "        print(n, 'x', i, '=', n*i)\n",
    "\n",
    "n = int(input())\n",
    "func(n)"
   ]
  },
  {
   "cell_type": "markdown",
   "id": "df46195a",
   "metadata": {},
   "source": [
    "# Fibonacci Sequence"
   ]
  },
  {
   "cell_type": "code",
   "execution_count": 35,
   "id": "847acb68",
   "metadata": {},
   "outputs": [
    {
     "name": "stdout",
     "output_type": "stream",
     "text": [
      "0 1 1 2 3 5 8 13 21 34 "
     ]
    }
   ],
   "source": [
    "def func(n):\n",
    "    a = 0\n",
    "    b = 1\n",
    "    c = 0\n",
    "\n",
    "    if n == 1:\n",
    "        print(a)\n",
    "    else:\n",
    "        print(a,end=\" \")\n",
    "        print(b, end=\" \")\n",
    "        for i in range(2,n):\n",
    "            c = a+b\n",
    "            a = b\n",
    "            b = c\n",
    "            print(c, end= \" \")\n",
    "\n",
    "n = int(input())\n",
    "func(n)"
   ]
  },
  {
   "cell_type": "markdown",
   "id": "45fbde8b",
   "metadata": {},
   "source": [
    "# Fibonacci upto n using while loop"
   ]
  },
  {
   "cell_type": "code",
   "execution_count": 44,
   "id": "29be72f5",
   "metadata": {},
   "outputs": [
    {
     "name": "stdout",
     "output_type": "stream",
     "text": [
      "0 1 1 2 3 5 8 "
     ]
    }
   ],
   "source": [
    "def func(n):\n",
    "    a = 0\n",
    "    b = 1\n",
    "    count = 0\n",
    "    temp = 0\n",
    "    \n",
    "    while count < n+1:\n",
    "        print(a, end=\" \")\n",
    "        temp = a+b\n",
    "        a = b\n",
    "        b = temp\n",
    "        count = count+1\n",
    "\n",
    "n = int(input())\n",
    "func(n)\n",
    "\n"
   ]
  },
  {
   "cell_type": "markdown",
   "id": "835c6818",
   "metadata": {},
   "source": [
    "# Check Armstrong Number"
   ]
  },
  {
   "cell_type": "code",
   "execution_count": 53,
   "id": "ef65fe4c",
   "metadata": {},
   "outputs": [
    {
     "name": "stdout",
     "output_type": "stream",
     "text": [
      "Armstrong Number\n"
     ]
    }
   ],
   "source": [
    "def func(n):\n",
    "\n",
    "    sum_ = 0\n",
    "    temp = n\n",
    "    while n > 0:\n",
    "        digit = n%10\n",
    "        sum_ += digit**3\n",
    "        n //= 10\n",
    "    \n",
    "    if temp == sum_:\n",
    "        print(\"Armstrong Number\")\n",
    "    else:\n",
    "        print(\"Not Armstrong Number\")\n",
    "\n",
    "n = int(input())\n",
    "func(n)\n",
    "\n",
    "# dummy inputs 407, 153 are armstrong number\n",
    "# 663, 154 are not armstrong number"
   ]
  },
  {
   "cell_type": "markdown",
   "id": "c662b6b2",
   "metadata": {},
   "source": [
    "# Armstrong Number in Interval"
   ]
  },
  {
   "cell_type": "code",
   "execution_count": 63,
   "id": "93feaab1",
   "metadata": {},
   "outputs": [
    {
     "name": "stdout",
     "output_type": "stream",
     "text": [
      "153 370 371 407 "
     ]
    }
   ],
   "source": [
    "def func(low,up):\n",
    "\n",
    "    for num in range(low, up+1):\n",
    "\n",
    "        order = len(str(num))\n",
    "\n",
    "        sum = 0\n",
    "        temp = num\n",
    "        while num > 0:\n",
    "            digit = num%10\n",
    "            sum += digit**order\n",
    "            num //= 10\n",
    "\n",
    "        if temp == sum:\n",
    "            print(temp, end=\" \") \n",
    "\n",
    "low = int(input())\n",
    "up = int(input())\n",
    "func(low, up)"
   ]
  },
  {
   "cell_type": "markdown",
   "id": "6547dbb0",
   "metadata": {},
   "source": [
    "# Sum of Natural Numbers"
   ]
  },
  {
   "cell_type": "code",
   "execution_count": 66,
   "id": "a3134339",
   "metadata": {},
   "outputs": [
    {
     "name": "stdout",
     "output_type": "stream",
     "text": [
      "15\n"
     ]
    }
   ],
   "source": [
    "def func(n):\n",
    "\n",
    "    sum = 0\n",
    "    while n> 0:\n",
    "        sum += n\n",
    "        n -= 1\n",
    "    return sum\n",
    "\n",
    "n = int(input())\n",
    "res = func(n)\n",
    "print(res)\n",
    "\n",
    "# can solve this problem using n*(n+1)/2\n",
    "# For example, if n = 16, the sum would be (16*17)/2 = 136."
   ]
  },
  {
   "cell_type": "markdown",
   "id": "a547638f",
   "metadata": {},
   "source": [
    "# Decimal to Binary "
   ]
  },
  {
   "cell_type": "code",
   "execution_count": 68,
   "id": "297c3465",
   "metadata": {},
   "outputs": [
    {
     "name": "stdout",
     "output_type": "stream",
     "text": [
      "101"
     ]
    }
   ],
   "source": [
    "def func(n):\n",
    "    if n>1:\n",
    "        func(n//2)\n",
    "    print(n%2, end=\"\")\n",
    "\n",
    "n = int(input())\n",
    "func(n)"
   ]
  },
  {
   "cell_type": "markdown",
   "id": "c22fec2d",
   "metadata": {},
   "source": [
    "# Binary to Decimal"
   ]
  },
  {
   "cell_type": "code",
   "execution_count": 2,
   "id": "45c36d8f",
   "metadata": {},
   "outputs": [],
   "source": [
    "def func(n):\n",
    "\n",
    "    decimal = 0\n",
    "    i = 0\n",
    "    while n != 0:\n",
    "        dec = n%10\n",
    "        decimal = decimal + dec*pow(2,i)\n",
    "        n //= 10\n",
    "        i += 1\n",
    "    print(decimal)\n",
    "\n",
    "n = int(input())\n",
    "func(n)\n"
   ]
  }
 ],
 "metadata": {
  "kernelspec": {
   "display_name": "Python 3",
   "language": "python",
   "name": "python3"
  },
  "language_info": {
   "codemirror_mode": {
    "name": "ipython",
    "version": 3
   },
   "file_extension": ".py",
   "mimetype": "text/x-python",
   "name": "python",
   "nbconvert_exporter": "python",
   "pygments_lexer": "ipython3",
   "version": "3.9.0"
  }
 },
 "nbformat": 4,
 "nbformat_minor": 5
}
